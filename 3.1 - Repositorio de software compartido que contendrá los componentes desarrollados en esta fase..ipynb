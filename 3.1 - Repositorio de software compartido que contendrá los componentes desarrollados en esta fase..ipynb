{
  "metadata": {
    "language_info": {
      "codemirror_mode": {
        "name": "python",
        "version": 3
      },
      "file_extension": ".py",
      "mimetype": "text/x-python",
      "name": "python",
      "nbconvert_exporter": "python",
      "pygments_lexer": "ipython3",
      "version": "3.8"
    },
    "kernelspec": {
      "name": "python",
      "display_name": "Python (Pyodide)",
      "language": "python"
    }
  },
  "nbformat_minor": 4,
  "nbformat": 4,
  "cells": [
    {
      "cell_type": "code",
      "source": "import pickle\n\n# Definir una clase para ilustrar la serialización\nclass Ejemplo:\n    def __init__(self, nombre, valor):\n        self.nombre = nombre\n        self.valor = valor\n\n    def __str__(self):\n        return f\"Ejemplo(nombre={self.nombre}, valor={self.valor})\"\n\n# Crear una instancia de la clase Ejemplo\nobjeto_original = Ejemplo(nombre=\"Ejemplo 1\", valor=42)\n\n# Serializar el objeto a un archivo pickle\narchivo_pickle = \"ejemplo.pickle\"\nwith open(archivo_pickle, 'wb') as archivo:\n    pickle.dump(objeto_original, archivo)\n\n# Imprimir la ubicación del archivo pickle\nprint(f\"El objeto se ha serializado y guardado en '{archivo_pickle}'\")\n\n# Recuperar el objeto original desde el archivo pickle\nwith open(archivo_pickle, 'rb') as archivo:\n    objeto_recuperado = pickle.load(archivo)\n\n# Imprimir el objeto recuperado\nprint(\"Objeto recuperado:\", objeto_recuperado)\n",
      "metadata": {
        "trusted": true
      },
      "execution_count": 3,
      "outputs": [
        {
          "name": "stdout",
          "text": "El objeto se ha serializado y guardado en 'ejemplo.pickle'\nObjeto recuperado: Ejemplo(nombre=Ejemplo 1, valor=42)\n",
          "output_type": "stream"
        }
      ]
    },
    {
      "cell_type": "code",
      "source": "",
      "metadata": {},
      "execution_count": null,
      "outputs": []
    }
  ]
}